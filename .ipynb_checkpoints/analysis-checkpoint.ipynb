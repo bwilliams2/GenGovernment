{
 "cells": [
  {
   "cell_type": "code",
   "execution_count": 24,
   "metadata": {
    "tags": []
   },
   "outputs": [
    {
     "name": "stdout",
     "output_type": "stream",
     "text": [
      "(536,)\n",
      "(12583,)\n"
     ]
    }
   ],
   "source": [
    "using JSON;\n",
    "using CSV;\n",
    "using DataFrames;\n",
    "using Dates;\n",
    "generations = CSV.read(\"data/generations.csv\", DataFrame)\n",
    "# write the file with the stringdata variable information\n",
    "legislators = Array\n",
    "open(\"data/legislators-current.json\") do f\n",
    "        global legislators\n",
    "        legislators = JSON.parse(f)\n",
    "     end\n",
    "println(size(legislators))\n",
    "open(\"data/legislators-historical.json\", \"r\") do f\n",
    "        global legislators;\n",
    "        legislators = union(legislators,JSON.parse(f));\n",
    "     end\n",
    "println(size(legislators))\n"
   ]
  },
  {
   "cell_type": "code",
   "execution_count": 94,
   "metadata": {},
   "outputs": [
    {
     "data": {
      "text/plain": [
       "10-element Vector{Any}:\n",
       " Dict{String, Any}(\"district\" => 13, \"start\" => \"1993-01-05\", \"party\" => \"Democrat\", \"type\" => \"rep\", \"end\" => \"1995-01-03\", \"state\" => \"OH\")\n",
       " Dict{String, Any}(\"district\" => 13, \"start\" => \"1995-01-04\", \"party\" => \"Democrat\", \"type\" => \"rep\", \"end\" => \"1997-01-03\", \"state\" => \"OH\")\n",
       " Dict{String, Any}(\"district\" => 13, \"start\" => \"1997-01-07\", \"party\" => \"Democrat\", \"type\" => \"rep\", \"end\" => \"1999-01-03\", \"state\" => \"OH\")\n",
       " Dict{String, Any}(\"district\" => 13, \"start\" => \"1999-01-06\", \"party\" => \"Democrat\", \"type\" => \"rep\", \"end\" => \"2001-01-03\", \"state\" => \"OH\")\n",
       " Dict{String, Any}(\"district\" => 13, \"start\" => \"2001-01-03\", \"party\" => \"Democrat\", \"type\" => \"rep\", \"end\" => \"2003-01-03\", \"state\" => \"OH\")\n",
       " Dict{String, Any}(\"url\" => \"http://www.house.gov/sherrodbrown\", \"district\" => 13, \"start\" => \"2003-01-07\", \"party\" => \"Democrat\", \"type\" => \"rep\", \"end\" => \"2005-01-03\", \"state\" => \"OH\")\n",
       " Dict{String, Any}(\"url\" => \"http://www.house.gov/sherrodbrown\", \"district\" => 13, \"start\" => \"2005-01-04\", \"party\" => \"Democrat\", \"type\" => \"rep\", \"end\" => \"2007-01-03\", \"state\" => \"OH\")\n",
       " Dict{String, Any}(\"address\" => \"713 HART SENATE OFFICE BUILDING WASHINGTON DC 20510\", \"state\" => \"OH\", \"phone\" => \"202-224-2315\", \"start\" => \"2007-01-04\", \"fax\" => \"202-228-6321\", \"class\" => 1, \"contact_form\" => \"http://www.brown.senate.gov/contact/\", \"url\" => \"http://brown.senate.gov/\", \"end\" => \"2013-01-03\", \"office\" => \"713 Hart Senate Office Building\"…)\n",
       " Dict{String, Any}(\"rss_url\" => \"http://www.brown.senate.gov/rss/feeds/?type=all&amp;\", \"address\" => \"713 Hart Senate Office Building Washington DC 20510\", \"state\" => \"OH\", \"phone\" => \"202-224-2315\", \"start\" => \"2013-01-03\", \"fax\" => \"202-228-6321\", \"class\" => 1, \"contact_form\" => \"http://www.brown.senate.gov/contact/\", \"url\" => \"https://www.brown.senate.gov\", \"end\" => \"2019-01-03\"…)\n",
       " Dict{String, Any}(\"rss_url\" => \"http://www.brown.senate.gov/rss/feeds/?type=all&amp;\", \"address\" => \"503 Hart Senate Office Building Washington DC 20510\", \"state\" => \"OH\", \"phone\" => \"202-224-2315\", \"start\" => \"2019-01-03\", \"contact_form\" => \"http://www.brown.senate.gov/contact/\", \"class\" => 1, \"url\" => \"https://www.brown.senate.gov\", \"end\" => \"2025-01-03\", \"office\" => \"503 Hart Senate Office Building\"…)"
      ]
     },
     "execution_count": 94,
     "metadata": {},
     "output_type": "execute_result"
    }
   ],
   "source": [
    "legislators[1][\"terms\"]"
   ]
  },
  {
   "cell_type": "code",
   "execution_count": 29,
   "metadata": {},
   "outputs": [],
   "source": [
    "# some bios missing birthday so adding in a default\n",
    "bios = map(x -> merge(Dict(\"birthday\"=>missing), x[\"bio\"]), legislators)\n",
    "\n",
    "df = vcat(DataFrame.(bios)...);\n",
    "convert_data(x) = Date(x, \"yyyy-mm-dd\")\n",
    "handle_missing = passmissing(convert_data)\n",
    "df.birthday = handle_missing.(df.birthday);"
   ]
  },
  {
   "cell_type": "code",
   "execution_count": 37,
   "metadata": {},
   "outputs": [
    {
     "data": {
      "text/plain": [
       "6-element Vector{Date}:\n",
       " 2021-12-31\n",
       " 2000-12-31\n",
       " 1979-12-31\n",
       " 1964-12-31\n",
       " 1945-12-31\n",
       " 1924-12-31"
      ]
     },
     "execution_count": 37,
     "metadata": {},
     "output_type": "execute_result"
    }
   ],
   "source": [
    "start_dates(x) = Date(\"$x-01-01\", \"yyyy-mm-dd\")\n",
    "end_dates(x) = Date(\"$x-12-31\", \"yyyy-mm-dd\")\n",
    "generations.start = start_dates.(generations.start)\n",
    "generations.end = end_dates.(generations.end);"
   ]
  },
  {
   "cell_type": "code",
   "execution_count": 87,
   "metadata": {},
   "outputs": [
    {
     "data": {
      "text/plain": [
       "12583-element Vector{Union{Missing, String}}:\n",
       " \"Baby Boomers\"\n",
       " \"Baby Boomers\"\n",
       " \"Silent Generation\"\n",
       " \"Baby Boomers\"\n",
       " \"Baby Boomers\"\n",
       " \"Silent Generation\"\n",
       " \"Baby Boomers\"\n",
       " \"Baby Boomers\"\n",
       " \"Silent Generation\"\n",
       " \"Baby Boomers\"\n",
       " \"Baby Boomers\"\n",
       " \"Baby Boomers\"\n",
       " \"Baby Boomers\"\n",
       " ⋮\n",
       " \"Generation X\"\n",
       " \"Generation X\"\n",
       " \"Millennials\"\n",
       " \"Generation X\"\n",
       " \"Generation X\"\n",
       " \"Generation X\"\n",
       " \"Generation X\"\n",
       " \"Baby Boomers\"\n",
       " \"Generation X\"\n",
       " \"Baby Boomers\"\n",
       " \"Baby Boomers\"\n",
       " \"Baby Boomers\""
      ]
     },
     "execution_count": 87,
     "metadata": {},
     "output_type": "execute_result"
    }
   ],
   "source": [
    "testDate = Date(\"1999-10-20\", \"yyyy-mm-dd\")\n",
    "assign_gen(testDate) = generations[((x-> x <= testDate).(generations.start) .& (x-> x >= testDate).(generations.end)), :name]\n",
    "miss_assign_gen = passmissing(assign_gen)\n",
    "df[!, \"generation\"] = map(x -> ismissing(x) || size(x)[1] == 0 ? missing : x[1], miss_assign_gen.(df.birthday));"
   ]
  },
  {
   "cell_type": "code",
   "execution_count": 88,
   "metadata": {},
   "outputs": [
    {
     "data": {
      "text/html": [
       "<table class=\"data-frame\"><thead><tr><th></th><th>birthday</th><th>gender</th><th>generation</th></tr><tr><th></th><th>Date?</th><th>String</th><th>String?</th></tr></thead><tbody><p>12,583 rows × 3 columns</p><tr><th>1</th><td>1952-11-09</td><td>M</td><td>Baby Boomers</td></tr><tr><th>2</th><td>1958-10-13</td><td>F</td><td>Baby Boomers</td></tr><tr><th>3</th><td>1943-10-05</td><td>M</td><td>Silent Generation</td></tr><tr><th>4</th><td>1947-01-23</td><td>M</td><td>Baby Boomers</td></tr><tr><th>5</th><td>1960-04-13</td><td>M</td><td>Baby Boomers</td></tr><tr><th>6</th><td>1933-06-22</td><td>F</td><td>Silent Generation</td></tr><tr><th>7</th><td>1960-05-25</td><td>F</td><td>Baby Boomers</td></tr><tr><th>8</th><td>1954-01-01</td><td>M</td><td>Baby Boomers</td></tr><tr><th>9</th><td>1941-09-08</td><td>M</td><td>Silent Generation</td></tr><tr><th>10</th><td>1950-04-29</td><td>F</td><td>Baby Boomers</td></tr><tr><th>11</th><td>1956-08-21</td><td>M</td><td>Baby Boomers</td></tr><tr><th>12</th><td>1955-10-20</td><td>M</td><td>Baby Boomers</td></tr><tr><th>13</th><td>1952-07-21</td><td>M</td><td>Baby Boomers</td></tr><tr><th>14</th><td>1951-07-05</td><td>M</td><td>Baby Boomers</td></tr><tr><th>15</th><td>1952-12-07</td><td>F</td><td>Baby Boomers</td></tr><tr><th>16</th><td>1952-02-02</td><td>M</td><td>Baby Boomers</td></tr><tr><th>17</th><td>1944-11-21</td><td>M</td><td>Silent Generation</td></tr><tr><th>18</th><td>1955-07-09</td><td>M</td><td>Baby Boomers</td></tr><tr><th>19</th><td>1934-11-17</td><td>M</td><td>Silent Generation</td></tr><tr><th>20</th><td>1942-02-20</td><td>M</td><td>Silent Generation</td></tr><tr><th>21</th><td>1956-10-24</td><td>M</td><td>Baby Boomers</td></tr><tr><th>22</th><td>1949-11-12</td><td>M</td><td>Baby Boomers</td></tr><tr><th>23</th><td>1943-05-03</td><td>M</td><td>Silent Generation</td></tr><tr><th>24</th><td>1947-01-28</td><td>F</td><td>Baby Boomers</td></tr><tr><th>25</th><td>1954-12-15</td><td>M</td><td>Baby Boomers</td></tr><tr><th>26</th><td>1966-12-09</td><td>F</td><td>Generation X</td></tr><tr><th>27</th><td>1963-09-09</td><td>M</td><td>Baby Boomers</td></tr><tr><th>28</th><td>1947-08-24</td><td>M</td><td>Baby Boomers</td></tr><tr><th>29</th><td>1965-07-22</td><td>M</td><td>Generation X</td></tr><tr><th>30</th><td>1962-02-11</td><td>F</td><td>Baby Boomers</td></tr><tr><th>&vellip;</th><td>&vellip;</td><td>&vellip;</td><td>&vellip;</td></tr></tbody></table>"
      ],
      "text/latex": [
       "\\begin{tabular}{r|ccc}\n",
       "\t& birthday & gender & generation\\\\\n",
       "\t\\hline\n",
       "\t& Date? & String & String?\\\\\n",
       "\t\\hline\n",
       "\t1 & 1952-11-09 & M & Baby Boomers \\\\\n",
       "\t2 & 1958-10-13 & F & Baby Boomers \\\\\n",
       "\t3 & 1943-10-05 & M & Silent Generation \\\\\n",
       "\t4 & 1947-01-23 & M & Baby Boomers \\\\\n",
       "\t5 & 1960-04-13 & M & Baby Boomers \\\\\n",
       "\t6 & 1933-06-22 & F & Silent Generation \\\\\n",
       "\t7 & 1960-05-25 & F & Baby Boomers \\\\\n",
       "\t8 & 1954-01-01 & M & Baby Boomers \\\\\n",
       "\t9 & 1941-09-08 & M & Silent Generation \\\\\n",
       "\t10 & 1950-04-29 & F & Baby Boomers \\\\\n",
       "\t11 & 1956-08-21 & M & Baby Boomers \\\\\n",
       "\t12 & 1955-10-20 & M & Baby Boomers \\\\\n",
       "\t13 & 1952-07-21 & M & Baby Boomers \\\\\n",
       "\t14 & 1951-07-05 & M & Baby Boomers \\\\\n",
       "\t15 & 1952-12-07 & F & Baby Boomers \\\\\n",
       "\t16 & 1952-02-02 & M & Baby Boomers \\\\\n",
       "\t17 & 1944-11-21 & M & Silent Generation \\\\\n",
       "\t18 & 1955-07-09 & M & Baby Boomers \\\\\n",
       "\t19 & 1934-11-17 & M & Silent Generation \\\\\n",
       "\t20 & 1942-02-20 & M & Silent Generation \\\\\n",
       "\t21 & 1956-10-24 & M & Baby Boomers \\\\\n",
       "\t22 & 1949-11-12 & M & Baby Boomers \\\\\n",
       "\t23 & 1943-05-03 & M & Silent Generation \\\\\n",
       "\t24 & 1947-01-28 & F & Baby Boomers \\\\\n",
       "\t25 & 1954-12-15 & M & Baby Boomers \\\\\n",
       "\t26 & 1966-12-09 & F & Generation X \\\\\n",
       "\t27 & 1963-09-09 & M & Baby Boomers \\\\\n",
       "\t28 & 1947-08-24 & M & Baby Boomers \\\\\n",
       "\t29 & 1965-07-22 & M & Generation X \\\\\n",
       "\t30 & 1962-02-11 & F & Baby Boomers \\\\\n",
       "\t$\\dots$ & $\\dots$ & $\\dots$ & $\\dots$ \\\\\n",
       "\\end{tabular}\n"
      ],
      "text/plain": [
       "\u001b[1m12583×3 DataFrame\u001b[0m\n",
       "\u001b[1m   Row \u001b[0m│\u001b[1m birthday   \u001b[0m\u001b[1m gender \u001b[0m\u001b[1m generation        \u001b[0m\n",
       "\u001b[1m       \u001b[0m│\u001b[90m Date?      \u001b[0m\u001b[90m String \u001b[0m\u001b[90m String?           \u001b[0m\n",
       "───────┼───────────────────────────────────────\n",
       "     1 │ 1952-11-09  M       Baby Boomers\n",
       "     2 │ 1958-10-13  F       Baby Boomers\n",
       "     3 │ 1943-10-05  M       Silent Generation\n",
       "     4 │ 1947-01-23  M       Baby Boomers\n",
       "     5 │ 1960-04-13  M       Baby Boomers\n",
       "     6 │ 1933-06-22  F       Silent Generation\n",
       "     7 │ 1960-05-25  F       Baby Boomers\n",
       "     8 │ 1954-01-01  M       Baby Boomers\n",
       "     9 │ 1941-09-08  M       Silent Generation\n",
       "    10 │ 1950-04-29  F       Baby Boomers\n",
       "    11 │ 1956-08-21  M       Baby Boomers\n",
       "   ⋮   │     ⋮         ⋮             ⋮\n",
       " 12574 │ 1982-05-26  M       Millennials\n",
       " 12575 │ 1974-12-05  M       Generation X\n",
       " 12576 │ 1970-03-01  M       Generation X\n",
       " 12577 │ 1971-05-01  M       Generation X\n",
       " 12578 │ 1973-09-13  M       Generation X\n",
       " 12579 │ 1964-10-20  F       Baby Boomers\n",
       " 12580 │ 1970-11-27  F       Generation X\n",
       " 12581 │ 1953-04-08  M       Baby Boomers\n",
       " 12582 │ 1952-10-29  F       Baby Boomers\n",
       " 12583 │ 1960-12-02  F       Baby Boomers\n",
       "\u001b[36m                             12562 rows omitted\u001b[0m"
      ]
     },
     "execution_count": 88,
     "metadata": {},
     "output_type": "execute_result"
    }
   ],
   "source": [
    "df"
   ]
  }
 ],
 "metadata": {
  "kernelspec": {
   "display_name": "Julia 1.6.0-rc2",
   "language": "julia",
   "name": "julia-1.6"
  },
  "language_info": {
   "file_extension": ".jl",
   "mimetype": "application/julia",
   "name": "julia",
   "version": "1.6.0"
  }
 },
 "nbformat": 4,
 "nbformat_minor": 4
}
