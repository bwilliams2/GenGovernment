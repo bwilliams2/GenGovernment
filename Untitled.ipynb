{
 "cells": [
  {
   "cell_type": "code",
   "execution_count": 24,
   "id": "detailed-queensland",
   "metadata": {},
   "outputs": [],
   "source": [
    "import pandas as pd\n",
    "import json\n",
    "\n",
    "with open(\"data/legislators-historical.json\") as f:\n",
    "    legislator = json.load(f)\n",
    "with open(\"data/legislators-current.json\") as f:\n",
    "    legislator += json.load(f)\n",
    "rows = []\n",
    "for leg in legislator:\n",
    "    leg_data = {**leg[\"bio\"], **leg[\"id\"], **leg[\"name\"]}\n",
    "    for term in leg[\"terms\"]:\n",
    "        rows.append({**leg_data, **term})\n",
    "legislator = pd.DataFrame(rows)\n",
    "legislator[\"birthday\"] = pd.to_datetime(legislator[\"birthday\"])\n",
    "generations = pd.read_csv(\"data/generations.csv\")\n",
    "generations[\"start\"] = pd.to_datetime(generations[\"start\"].astype(str) + \"-01-01\")\n",
    "generations[\"end\"] = pd.to_datetime(generations[\"end\"].astype(str) + \"-12-31\")"
   ]
  },
  {
   "cell_type": "code",
   "execution_count": 32,
   "id": "irish-yeast",
   "metadata": {},
   "outputs": [],
   "source": [
    "def assign_generation(birthday):\n",
    "    mask = (birthday >= generations[\"start\"]) & (birthday <= generations[\"end\"])\n",
    "    if mask.any():\n",
    "        return generations.loc[mask, \"name\"].iloc[0]\n",
    "    else:\n",
    "        return None"
   ]
  },
  {
   "cell_type": "code",
   "execution_count": 30,
   "id": "backed-copper",
   "metadata": {},
   "outputs": [],
   "source": [
    "generation = [assign_generation(bday) for bday in legislator[\"birthday\"]]"
   ]
  },
  {
   "cell_type": "code",
   "execution_count": 31,
   "id": "designing-digest",
   "metadata": {},
   "outputs": [
    {
     "ename": "TypeError",
     "evalue": "'Series' objects are mutable, thus they cannot be hashed",
     "output_type": "error",
     "traceback": [
      "\u001b[0;31m---------------------------------------------------------------------------\u001b[0m",
      "\u001b[0;31mTypeError\u001b[0m                                 Traceback (most recent call last)",
      "\u001b[0;32m<ipython-input-31-a747595b1e61>\u001b[0m in \u001b[0;36m<module>\u001b[0;34m\u001b[0m\n\u001b[0;32m----> 1\u001b[0;31m \u001b[0mset\u001b[0m\u001b[0;34m(\u001b[0m\u001b[0mgeneration\u001b[0m\u001b[0;34m)\u001b[0m\u001b[0;34m\u001b[0m\u001b[0;34m\u001b[0m\u001b[0m\n\u001b[0m",
      "\u001b[0;32m~/.pyenv/versions/3.9.2/lib/python3.9/site-packages/pandas/core/generic.py\u001b[0m in \u001b[0;36m__hash__\u001b[0;34m(self)\u001b[0m\n\u001b[1;32m   1783\u001b[0m \u001b[0;34m\u001b[0m\u001b[0m\n\u001b[1;32m   1784\u001b[0m     \u001b[0;32mdef\u001b[0m \u001b[0m__hash__\u001b[0m\u001b[0;34m(\u001b[0m\u001b[0mself\u001b[0m\u001b[0;34m)\u001b[0m \u001b[0;34m->\u001b[0m \u001b[0mint\u001b[0m\u001b[0;34m:\u001b[0m\u001b[0;34m\u001b[0m\u001b[0;34m\u001b[0m\u001b[0m\n\u001b[0;32m-> 1785\u001b[0;31m         raise TypeError(\n\u001b[0m\u001b[1;32m   1786\u001b[0m             \u001b[0;34mf\"{repr(type(self).__name__)} objects are mutable, \"\u001b[0m\u001b[0;34m\u001b[0m\u001b[0;34m\u001b[0m\u001b[0m\n\u001b[1;32m   1787\u001b[0m             \u001b[0;34mf\"thus they cannot be hashed\"\u001b[0m\u001b[0;34m\u001b[0m\u001b[0;34m\u001b[0m\u001b[0m\n",
      "\u001b[0;31mTypeError\u001b[0m: 'Series' objects are mutable, thus they cannot be hashed"
     ]
    }
   ],
   "source": [
    "set(generation)"
   ]
  }
 ],
 "metadata": {
  "kernelspec": {
   "display_name": "Python 3",
   "language": "python",
   "name": "python3"
  },
  "language_info": {
   "codemirror_mode": {
    "name": "ipython",
    "version": 3
   },
   "file_extension": ".py",
   "mimetype": "text/x-python",
   "name": "python",
   "nbconvert_exporter": "python",
   "pygments_lexer": "ipython3",
   "version": "3.9.2"
  }
 },
 "nbformat": 4,
 "nbformat_minor": 5
}
